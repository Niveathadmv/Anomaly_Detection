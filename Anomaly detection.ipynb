{
 "cells": [
  {
   "cell_type": "code",
   "execution_count": 2,
   "id": "18e5766e",
   "metadata": {},
   "outputs": [],
   "source": [
    "#pip install pyod scikit-learn matplotlib pandas"
   ]
  },
  {
   "cell_type": "code",
   "execution_count": 24,
   "id": "14546da8",
   "metadata": {},
   "outputs": [],
   "source": [
    "#!pip install shap"
   ]
  },
  {
   "cell_type": "markdown",
   "id": "bcfc2438",
   "metadata": {},
   "source": [
    "## Step 1: Loading and Preprocessing the Data"
   ]
  },
  {
   "cell_type": "markdown",
   "id": "dd66ce95",
   "metadata": {},
   "source": [
    "In this step, we're importing the neccessary libraries and loading the avocado dataset and selecting relevant features for our anomaly detection task."
   ]
  },
  {
   "cell_type": "code",
   "execution_count": 1,
   "id": "a7566dd3",
   "metadata": {},
   "outputs": [],
   "source": [
    "import pandas as pd\n",
    "import numpy as np\n",
    "from sklearn.preprocessing import StandardScaler\n",
    "import seaborn as sns\n",
    "from pyod.models.iforest import IForest\n",
    "from sklearn.model_selection import train_test_split\n",
    "from sklearn.ensemble import IsolationForest\n",
    "from sklearn.utils import resample\n",
    "import matplotlib.pyplot as plt\n",
    "import shap"
   ]
  },
  {
   "cell_type": "code",
   "execution_count": 36,
   "id": "d55e3c6b",
   "metadata": {},
   "outputs": [],
   "source": [
    "# Load the dataset\n",
    "df = pd.read_csv('avocado.csv')"
   ]
  },
  {
   "cell_type": "code",
   "execution_count": 37,
   "id": "1e6c8f2a",
   "metadata": {},
   "outputs": [],
   "source": [
    "df.drop(columns = 'Unnamed: 0', inplace= True)"
   ]
  },
  {
   "cell_type": "code",
   "execution_count": 38,
   "id": "ee8eae46",
   "metadata": {},
   "outputs": [],
   "source": [
    "# Selecting the relevant features for anomaly detection\n",
    "features = ['AveragePrice', 'Total Volume', '4046', '4225', '4770', 'Total Bags']"
   ]
  },
  {
   "cell_type": "code",
   "execution_count": 39,
   "id": "05947052",
   "metadata": {},
   "outputs": [],
   "source": [
    "X = df[features]"
   ]
  },
  {
   "cell_type": "markdown",
   "id": "c48be74d",
   "metadata": {},
   "source": [
    "## Step 2: Scaling and Splitting the Data"
   ]
  },
  {
   "cell_type": "markdown",
   "id": "3d9f8eb9",
   "metadata": {},
   "source": [
    "Here, we standardize the data to ensure all features are on the same scale, then split it into training and test sets."
   ]
  },
  {
   "cell_type": "code",
   "execution_count": 40,
   "id": "72e3afcb",
   "metadata": {},
   "outputs": [],
   "source": [
    "# Standardize the data\n",
    "scaler = StandardScaler()\n",
    "features_scaled = scaler.fit_transform(X)"
   ]
  },
  {
   "cell_type": "code",
   "execution_count": 41,
   "id": "a5bf62b9",
   "metadata": {},
   "outputs": [],
   "source": [
    "# Split into train and test sets\n",
    "X_train, X_test = train_test_split(features_scaled, test_size=0.3, random_state=42)"
   ]
  },
  {
   "cell_type": "code",
   "execution_count": 46,
   "id": "2b2b1263",
   "metadata": {},
   "outputs": [
    {
     "data": {
      "text/plain": [
       "array([[-0.18868864, -0.22771641, -0.23081597, -0.1999022 , -0.21209136,\n",
       "        -0.23417028],\n",
       "       [-0.13901962, -0.23042664, -0.23110251, -0.20805446, -0.21199672,\n",
       "        -0.23335029],\n",
       "       [-1.18206895, -0.21208462, -0.23100731, -0.1544779 , -0.21132513,\n",
       "        -0.23472951],\n",
       "       ...,\n",
       "       [ 1.15237477, -0.24233073, -0.2306933 , -0.24309014, -0.20576554,\n",
       "        -0.2334633 ],\n",
       "       [ 1.30138182, -0.24162464, -0.2304279 , -0.24265143, -0.20577419,\n",
       "        -0.23186585],\n",
       "       [ 0.53151208, -0.24125273, -0.22934712, -0.24317042, -0.21045012,\n",
       "        -0.23080663]])"
      ]
     },
     "execution_count": 46,
     "metadata": {},
     "output_type": "execute_result"
    }
   ],
   "source": [
    "features_scaled"
   ]
  },
  {
   "cell_type": "markdown",
   "id": "fb663465",
   "metadata": {},
   "source": [
    " ## Step 3: Implementing Isolation Forest for Anomaly Detection"
   ]
  },
  {
   "cell_type": "markdown",
   "id": "c3a33b05",
   "metadata": {},
   "source": [
    "In this step, we initialize and train the Isolation Forest model on our data. We'll then use this model to predict anomalies in our test set. Let's break down the process and the key parameters:"
   ]
  },
  {
   "cell_type": "code",
   "execution_count": 8,
   "id": "62ed609f",
   "metadata": {},
   "outputs": [],
   "source": [
    "# Initialize the Isolation Forest model\n",
    "iforest = IsolationForest(n_estimators = 100, contamination = 0.03, max_samples ='auto') "
   ]
  },
  {
   "cell_type": "code",
   "execution_count": 9,
   "id": "430e2188",
   "metadata": {},
   "outputs": [
    {
     "data": {
      "text/html": [
       "<style>#sk-container-id-1 {\n",
       "  /* Definition of color scheme common for light and dark mode */\n",
       "  --sklearn-color-text: black;\n",
       "  --sklearn-color-line: gray;\n",
       "  /* Definition of color scheme for unfitted estimators */\n",
       "  --sklearn-color-unfitted-level-0: #fff5e6;\n",
       "  --sklearn-color-unfitted-level-1: #f6e4d2;\n",
       "  --sklearn-color-unfitted-level-2: #ffe0b3;\n",
       "  --sklearn-color-unfitted-level-3: chocolate;\n",
       "  /* Definition of color scheme for fitted estimators */\n",
       "  --sklearn-color-fitted-level-0: #f0f8ff;\n",
       "  --sklearn-color-fitted-level-1: #d4ebff;\n",
       "  --sklearn-color-fitted-level-2: #b3dbfd;\n",
       "  --sklearn-color-fitted-level-3: cornflowerblue;\n",
       "\n",
       "  /* Specific color for light theme */\n",
       "  --sklearn-color-text-on-default-background: var(--sg-text-color, var(--theme-code-foreground, var(--jp-content-font-color1, black)));\n",
       "  --sklearn-color-background: var(--sg-background-color, var(--theme-background, var(--jp-layout-color0, white)));\n",
       "  --sklearn-color-border-box: var(--sg-text-color, var(--theme-code-foreground, var(--jp-content-font-color1, black)));\n",
       "  --sklearn-color-icon: #696969;\n",
       "\n",
       "  @media (prefers-color-scheme: dark) {\n",
       "    /* Redefinition of color scheme for dark theme */\n",
       "    --sklearn-color-text-on-default-background: var(--sg-text-color, var(--theme-code-foreground, var(--jp-content-font-color1, white)));\n",
       "    --sklearn-color-background: var(--sg-background-color, var(--theme-background, var(--jp-layout-color0, #111)));\n",
       "    --sklearn-color-border-box: var(--sg-text-color, var(--theme-code-foreground, var(--jp-content-font-color1, white)));\n",
       "    --sklearn-color-icon: #878787;\n",
       "  }\n",
       "}\n",
       "\n",
       "#sk-container-id-1 {\n",
       "  color: var(--sklearn-color-text);\n",
       "}\n",
       "\n",
       "#sk-container-id-1 pre {\n",
       "  padding: 0;\n",
       "}\n",
       "\n",
       "#sk-container-id-1 input.sk-hidden--visually {\n",
       "  border: 0;\n",
       "  clip: rect(1px 1px 1px 1px);\n",
       "  clip: rect(1px, 1px, 1px, 1px);\n",
       "  height: 1px;\n",
       "  margin: -1px;\n",
       "  overflow: hidden;\n",
       "  padding: 0;\n",
       "  position: absolute;\n",
       "  width: 1px;\n",
       "}\n",
       "\n",
       "#sk-container-id-1 div.sk-dashed-wrapped {\n",
       "  border: 1px dashed var(--sklearn-color-line);\n",
       "  margin: 0 0.4em 0.5em 0.4em;\n",
       "  box-sizing: border-box;\n",
       "  padding-bottom: 0.4em;\n",
       "  background-color: var(--sklearn-color-background);\n",
       "}\n",
       "\n",
       "#sk-container-id-1 div.sk-container {\n",
       "  /* jupyter's `normalize.less` sets `[hidden] { display: none; }`\n",
       "     but bootstrap.min.css set `[hidden] { display: none !important; }`\n",
       "     so we also need the `!important` here to be able to override the\n",
       "     default hidden behavior on the sphinx rendered scikit-learn.org.\n",
       "     See: https://github.com/scikit-learn/scikit-learn/issues/21755 */\n",
       "  display: inline-block !important;\n",
       "  position: relative;\n",
       "}\n",
       "\n",
       "#sk-container-id-1 div.sk-text-repr-fallback {\n",
       "  display: none;\n",
       "}\n",
       "\n",
       "div.sk-parallel-item,\n",
       "div.sk-serial,\n",
       "div.sk-item {\n",
       "  /* draw centered vertical line to link estimators */\n",
       "  background-image: linear-gradient(var(--sklearn-color-text-on-default-background), var(--sklearn-color-text-on-default-background));\n",
       "  background-size: 2px 100%;\n",
       "  background-repeat: no-repeat;\n",
       "  background-position: center center;\n",
       "}\n",
       "\n",
       "/* Parallel-specific style estimator block */\n",
       "\n",
       "#sk-container-id-1 div.sk-parallel-item::after {\n",
       "  content: \"\";\n",
       "  width: 100%;\n",
       "  border-bottom: 2px solid var(--sklearn-color-text-on-default-background);\n",
       "  flex-grow: 1;\n",
       "}\n",
       "\n",
       "#sk-container-id-1 div.sk-parallel {\n",
       "  display: flex;\n",
       "  align-items: stretch;\n",
       "  justify-content: center;\n",
       "  background-color: var(--sklearn-color-background);\n",
       "  position: relative;\n",
       "}\n",
       "\n",
       "#sk-container-id-1 div.sk-parallel-item {\n",
       "  display: flex;\n",
       "  flex-direction: column;\n",
       "}\n",
       "\n",
       "#sk-container-id-1 div.sk-parallel-item:first-child::after {\n",
       "  align-self: flex-end;\n",
       "  width: 50%;\n",
       "}\n",
       "\n",
       "#sk-container-id-1 div.sk-parallel-item:last-child::after {\n",
       "  align-self: flex-start;\n",
       "  width: 50%;\n",
       "}\n",
       "\n",
       "#sk-container-id-1 div.sk-parallel-item:only-child::after {\n",
       "  width: 0;\n",
       "}\n",
       "\n",
       "/* Serial-specific style estimator block */\n",
       "\n",
       "#sk-container-id-1 div.sk-serial {\n",
       "  display: flex;\n",
       "  flex-direction: column;\n",
       "  align-items: center;\n",
       "  background-color: var(--sklearn-color-background);\n",
       "  padding-right: 1em;\n",
       "  padding-left: 1em;\n",
       "}\n",
       "\n",
       "\n",
       "/* Toggleable style: style used for estimator/Pipeline/ColumnTransformer box that is\n",
       "clickable and can be expanded/collapsed.\n",
       "- Pipeline and ColumnTransformer use this feature and define the default style\n",
       "- Estimators will overwrite some part of the style using the `sk-estimator` class\n",
       "*/\n",
       "\n",
       "/* Pipeline and ColumnTransformer style (default) */\n",
       "\n",
       "#sk-container-id-1 div.sk-toggleable {\n",
       "  /* Default theme specific background. It is overwritten whether we have a\n",
       "  specific estimator or a Pipeline/ColumnTransformer */\n",
       "  background-color: var(--sklearn-color-background);\n",
       "}\n",
       "\n",
       "/* Toggleable label */\n",
       "#sk-container-id-1 label.sk-toggleable__label {\n",
       "  cursor: pointer;\n",
       "  display: block;\n",
       "  width: 100%;\n",
       "  margin-bottom: 0;\n",
       "  padding: 0.5em;\n",
       "  box-sizing: border-box;\n",
       "  text-align: center;\n",
       "}\n",
       "\n",
       "#sk-container-id-1 label.sk-toggleable__label-arrow:before {\n",
       "  /* Arrow on the left of the label */\n",
       "  content: \"▸\";\n",
       "  float: left;\n",
       "  margin-right: 0.25em;\n",
       "  color: var(--sklearn-color-icon);\n",
       "}\n",
       "\n",
       "#sk-container-id-1 label.sk-toggleable__label-arrow:hover:before {\n",
       "  color: var(--sklearn-color-text);\n",
       "}\n",
       "\n",
       "/* Toggleable content - dropdown */\n",
       "\n",
       "#sk-container-id-1 div.sk-toggleable__content {\n",
       "  max-height: 0;\n",
       "  max-width: 0;\n",
       "  overflow: hidden;\n",
       "  text-align: left;\n",
       "  /* unfitted */\n",
       "  background-color: var(--sklearn-color-unfitted-level-0);\n",
       "}\n",
       "\n",
       "#sk-container-id-1 div.sk-toggleable__content.fitted {\n",
       "  /* fitted */\n",
       "  background-color: var(--sklearn-color-fitted-level-0);\n",
       "}\n",
       "\n",
       "#sk-container-id-1 div.sk-toggleable__content pre {\n",
       "  margin: 0.2em;\n",
       "  border-radius: 0.25em;\n",
       "  color: var(--sklearn-color-text);\n",
       "  /* unfitted */\n",
       "  background-color: var(--sklearn-color-unfitted-level-0);\n",
       "}\n",
       "\n",
       "#sk-container-id-1 div.sk-toggleable__content.fitted pre {\n",
       "  /* unfitted */\n",
       "  background-color: var(--sklearn-color-fitted-level-0);\n",
       "}\n",
       "\n",
       "#sk-container-id-1 input.sk-toggleable__control:checked~div.sk-toggleable__content {\n",
       "  /* Expand drop-down */\n",
       "  max-height: 200px;\n",
       "  max-width: 100%;\n",
       "  overflow: auto;\n",
       "}\n",
       "\n",
       "#sk-container-id-1 input.sk-toggleable__control:checked~label.sk-toggleable__label-arrow:before {\n",
       "  content: \"▾\";\n",
       "}\n",
       "\n",
       "/* Pipeline/ColumnTransformer-specific style */\n",
       "\n",
       "#sk-container-id-1 div.sk-label input.sk-toggleable__control:checked~label.sk-toggleable__label {\n",
       "  color: var(--sklearn-color-text);\n",
       "  background-color: var(--sklearn-color-unfitted-level-2);\n",
       "}\n",
       "\n",
       "#sk-container-id-1 div.sk-label.fitted input.sk-toggleable__control:checked~label.sk-toggleable__label {\n",
       "  background-color: var(--sklearn-color-fitted-level-2);\n",
       "}\n",
       "\n",
       "/* Estimator-specific style */\n",
       "\n",
       "/* Colorize estimator box */\n",
       "#sk-container-id-1 div.sk-estimator input.sk-toggleable__control:checked~label.sk-toggleable__label {\n",
       "  /* unfitted */\n",
       "  background-color: var(--sklearn-color-unfitted-level-2);\n",
       "}\n",
       "\n",
       "#sk-container-id-1 div.sk-estimator.fitted input.sk-toggleable__control:checked~label.sk-toggleable__label {\n",
       "  /* fitted */\n",
       "  background-color: var(--sklearn-color-fitted-level-2);\n",
       "}\n",
       "\n",
       "#sk-container-id-1 div.sk-label label.sk-toggleable__label,\n",
       "#sk-container-id-1 div.sk-label label {\n",
       "  /* The background is the default theme color */\n",
       "  color: var(--sklearn-color-text-on-default-background);\n",
       "}\n",
       "\n",
       "/* On hover, darken the color of the background */\n",
       "#sk-container-id-1 div.sk-label:hover label.sk-toggleable__label {\n",
       "  color: var(--sklearn-color-text);\n",
       "  background-color: var(--sklearn-color-unfitted-level-2);\n",
       "}\n",
       "\n",
       "/* Label box, darken color on hover, fitted */\n",
       "#sk-container-id-1 div.sk-label.fitted:hover label.sk-toggleable__label.fitted {\n",
       "  color: var(--sklearn-color-text);\n",
       "  background-color: var(--sklearn-color-fitted-level-2);\n",
       "}\n",
       "\n",
       "/* Estimator label */\n",
       "\n",
       "#sk-container-id-1 div.sk-label label {\n",
       "  font-family: monospace;\n",
       "  font-weight: bold;\n",
       "  display: inline-block;\n",
       "  line-height: 1.2em;\n",
       "}\n",
       "\n",
       "#sk-container-id-1 div.sk-label-container {\n",
       "  text-align: center;\n",
       "}\n",
       "\n",
       "/* Estimator-specific */\n",
       "#sk-container-id-1 div.sk-estimator {\n",
       "  font-family: monospace;\n",
       "  border: 1px dotted var(--sklearn-color-border-box);\n",
       "  border-radius: 0.25em;\n",
       "  box-sizing: border-box;\n",
       "  margin-bottom: 0.5em;\n",
       "  /* unfitted */\n",
       "  background-color: var(--sklearn-color-unfitted-level-0);\n",
       "}\n",
       "\n",
       "#sk-container-id-1 div.sk-estimator.fitted {\n",
       "  /* fitted */\n",
       "  background-color: var(--sklearn-color-fitted-level-0);\n",
       "}\n",
       "\n",
       "/* on hover */\n",
       "#sk-container-id-1 div.sk-estimator:hover {\n",
       "  /* unfitted */\n",
       "  background-color: var(--sklearn-color-unfitted-level-2);\n",
       "}\n",
       "\n",
       "#sk-container-id-1 div.sk-estimator.fitted:hover {\n",
       "  /* fitted */\n",
       "  background-color: var(--sklearn-color-fitted-level-2);\n",
       "}\n",
       "\n",
       "/* Specification for estimator info (e.g. \"i\" and \"?\") */\n",
       "\n",
       "/* Common style for \"i\" and \"?\" */\n",
       "\n",
       ".sk-estimator-doc-link,\n",
       "a:link.sk-estimator-doc-link,\n",
       "a:visited.sk-estimator-doc-link {\n",
       "  float: right;\n",
       "  font-size: smaller;\n",
       "  line-height: 1em;\n",
       "  font-family: monospace;\n",
       "  background-color: var(--sklearn-color-background);\n",
       "  border-radius: 1em;\n",
       "  height: 1em;\n",
       "  width: 1em;\n",
       "  text-decoration: none !important;\n",
       "  margin-left: 1ex;\n",
       "  /* unfitted */\n",
       "  border: var(--sklearn-color-unfitted-level-1) 1pt solid;\n",
       "  color: var(--sklearn-color-unfitted-level-1);\n",
       "}\n",
       "\n",
       ".sk-estimator-doc-link.fitted,\n",
       "a:link.sk-estimator-doc-link.fitted,\n",
       "a:visited.sk-estimator-doc-link.fitted {\n",
       "  /* fitted */\n",
       "  border: var(--sklearn-color-fitted-level-1) 1pt solid;\n",
       "  color: var(--sklearn-color-fitted-level-1);\n",
       "}\n",
       "\n",
       "/* On hover */\n",
       "div.sk-estimator:hover .sk-estimator-doc-link:hover,\n",
       ".sk-estimator-doc-link:hover,\n",
       "div.sk-label-container:hover .sk-estimator-doc-link:hover,\n",
       ".sk-estimator-doc-link:hover {\n",
       "  /* unfitted */\n",
       "  background-color: var(--sklearn-color-unfitted-level-3);\n",
       "  color: var(--sklearn-color-background);\n",
       "  text-decoration: none;\n",
       "}\n",
       "\n",
       "div.sk-estimator.fitted:hover .sk-estimator-doc-link.fitted:hover,\n",
       ".sk-estimator-doc-link.fitted:hover,\n",
       "div.sk-label-container:hover .sk-estimator-doc-link.fitted:hover,\n",
       ".sk-estimator-doc-link.fitted:hover {\n",
       "  /* fitted */\n",
       "  background-color: var(--sklearn-color-fitted-level-3);\n",
       "  color: var(--sklearn-color-background);\n",
       "  text-decoration: none;\n",
       "}\n",
       "\n",
       "/* Span, style for the box shown on hovering the info icon */\n",
       ".sk-estimator-doc-link span {\n",
       "  display: none;\n",
       "  z-index: 9999;\n",
       "  position: relative;\n",
       "  font-weight: normal;\n",
       "  right: .2ex;\n",
       "  padding: .5ex;\n",
       "  margin: .5ex;\n",
       "  width: min-content;\n",
       "  min-width: 20ex;\n",
       "  max-width: 50ex;\n",
       "  color: var(--sklearn-color-text);\n",
       "  box-shadow: 2pt 2pt 4pt #999;\n",
       "  /* unfitted */\n",
       "  background: var(--sklearn-color-unfitted-level-0);\n",
       "  border: .5pt solid var(--sklearn-color-unfitted-level-3);\n",
       "}\n",
       "\n",
       ".sk-estimator-doc-link.fitted span {\n",
       "  /* fitted */\n",
       "  background: var(--sklearn-color-fitted-level-0);\n",
       "  border: var(--sklearn-color-fitted-level-3);\n",
       "}\n",
       "\n",
       ".sk-estimator-doc-link:hover span {\n",
       "  display: block;\n",
       "}\n",
       "\n",
       "/* \"?\"-specific style due to the `<a>` HTML tag */\n",
       "\n",
       "#sk-container-id-1 a.estimator_doc_link {\n",
       "  float: right;\n",
       "  font-size: 1rem;\n",
       "  line-height: 1em;\n",
       "  font-family: monospace;\n",
       "  background-color: var(--sklearn-color-background);\n",
       "  border-radius: 1rem;\n",
       "  height: 1rem;\n",
       "  width: 1rem;\n",
       "  text-decoration: none;\n",
       "  /* unfitted */\n",
       "  color: var(--sklearn-color-unfitted-level-1);\n",
       "  border: var(--sklearn-color-unfitted-level-1) 1pt solid;\n",
       "}\n",
       "\n",
       "#sk-container-id-1 a.estimator_doc_link.fitted {\n",
       "  /* fitted */\n",
       "  border: var(--sklearn-color-fitted-level-1) 1pt solid;\n",
       "  color: var(--sklearn-color-fitted-level-1);\n",
       "}\n",
       "\n",
       "/* On hover */\n",
       "#sk-container-id-1 a.estimator_doc_link:hover {\n",
       "  /* unfitted */\n",
       "  background-color: var(--sklearn-color-unfitted-level-3);\n",
       "  color: var(--sklearn-color-background);\n",
       "  text-decoration: none;\n",
       "}\n",
       "\n",
       "#sk-container-id-1 a.estimator_doc_link.fitted:hover {\n",
       "  /* fitted */\n",
       "  background-color: var(--sklearn-color-fitted-level-3);\n",
       "}\n",
       "</style><div id=\"sk-container-id-1\" class=\"sk-top-container\"><div class=\"sk-text-repr-fallback\"><pre>IsolationForest(contamination=0.03)</pre><b>In a Jupyter environment, please rerun this cell to show the HTML representation or trust the notebook. <br />On GitHub, the HTML representation is unable to render, please try loading this page with nbviewer.org.</b></div><div class=\"sk-container\" hidden><div class=\"sk-item\"><div class=\"sk-estimator fitted sk-toggleable\"><input class=\"sk-toggleable__control sk-hidden--visually\" id=\"sk-estimator-id-1\" type=\"checkbox\" checked><label for=\"sk-estimator-id-1\" class=\"sk-toggleable__label fitted sk-toggleable__label-arrow fitted\">&nbsp;&nbsp;IsolationForest<a class=\"sk-estimator-doc-link fitted\" rel=\"noreferrer\" target=\"_blank\" href=\"https://scikit-learn.org/1.5/modules/generated/sklearn.ensemble.IsolationForest.html\">?<span>Documentation for IsolationForest</span></a><span class=\"sk-estimator-doc-link fitted\">i<span>Fitted</span></span></label><div class=\"sk-toggleable__content fitted\"><pre>IsolationForest(contamination=0.03)</pre></div> </div></div></div></div>"
      ],
      "text/plain": [
       "IsolationForest(contamination=0.03)"
      ]
     },
     "execution_count": 9,
     "metadata": {},
     "output_type": "execute_result"
    }
   ],
   "source": [
    "# Train the model on the training data\n",
    "iforest.fit(X_train)"
   ]
  },
  {
   "cell_type": "code",
   "execution_count": 10,
   "id": "c0ce4951",
   "metadata": {},
   "outputs": [],
   "source": [
    "# Predict anomalies on the test set\n",
    "y_test_pred = iforest.predict(X_test)"
   ]
  },
  {
   "cell_type": "code",
   "execution_count": 11,
   "id": "ace806b6",
   "metadata": {},
   "outputs": [
    {
     "data": {
      "text/plain": [
       "array([1, 1, 1, ..., 1, 1, 1])"
      ]
     },
     "execution_count": 11,
     "metadata": {},
     "output_type": "execute_result"
    }
   ],
   "source": [
    "y_test_pred"
   ]
  },
  {
   "cell_type": "markdown",
   "id": "6446ba67",
   "metadata": {},
   "source": [
    "Here's what each parameter in our model initialization means:\n",
    "\n",
    "n_estimators = 100: This sets the number of trees in our forest. Having 100 trees provides a good balance between model performance and computational efficiency.\n",
    "\n",
    "contamination = 0.03: This parameter represents the expected proportion of anomalies in our dataset. We've set it to 3%, suggesting we anticipate about 3% of our avocado sales data points to be anomalous.\n",
    "\n",
    "max_samples ='auto': This determines the number of samples used to train each base estimator. The 'auto' setting uses the minimum of 256 or the total number of samples, helping to balance between computational speed and model accuracy.\n",
    "\n",
    "After fitting the model to our training data, we use it to predict anomalies in the test set. The predict method returns an array where:\n",
    "\n",
    "-1 indicates an anomaly\n",
    "\n",
    "1 indicates a normal data point\n",
    "\n",
    "This binary classification makes it easy to identify which avocado sales data points the model considers unusual or potentially problematic. These could be instances of unexpectedly high or low prices, unusual sales volumes, or other patterns that deviate significantly from the norm in our dataset.\n",
    "\n",
    "Please take a look at Isolation Forest documentation in sklearn to understand more about the model parameters."
   ]
  },
  {
   "cell_type": "markdown",
   "id": "bbc1f907",
   "metadata": {},
   "source": [
    "## Step 4: Visualizing Anomalies"
   ]
  },
  {
   "cell_type": "markdown",
   "id": "1c7326b0",
   "metadata": {},
   "source": [
    "Now that we've identified anomalies, let's visualize the them detected by our model. The scatter plot shows normal data points in blue and anomalies in red based on \"Average Price\" and \"Total Volume\". We can see that anomalies tend to be on the outskirts of the data distribution and they are easily isolatable data points. "
   ]
  },
  {
   "cell_type": "code",
   "execution_count": 12,
   "id": "bf46f7ec",
   "metadata": {},
   "outputs": [],
   "source": [
    "# Fetching the index of the anomaly data points in the test set\n",
    "anomaly_index = np.where(y_test_pred == -1)[0]"
   ]
  },
  {
   "cell_type": "code",
   "execution_count": 13,
   "id": "848c711e",
   "metadata": {},
   "outputs": [],
   "source": [
    "# Extracting anomaly data points using numpy indexing\n",
    "anomalies = X_test[anomaly_index]"
   ]
  },
  {
   "cell_type": "code",
   "execution_count": 14,
   "id": "d60cda2e",
   "metadata": {},
   "outputs": [
    {
     "data": {
      "image/png": "[encoded data removed]",
      "text/plain": [
       "<Figure size 600x400 with 1 Axes>"
      ]
     },
     "metadata": {},
     "output_type": "display_data"
    }
   ],
   "source": [
    "#Plotting the data points and anomalies (after scaling)\n",
    "plt.figure(figsize=(6, 4))\n",
    "plt.scatter(X_test[:, 0], X_test[:, 1], label='Data Points', alpha=0.6)\n",
    "# Highlight the anomalies using the index of anomalies from predictions\n",
    "plt.scatter(X_test[anomaly_index, 0], X_test[anomaly_index, 1],color='red', edgecolors=\"k\", label='Anomalies')\n",
    "\n",
    "\n",
    "plt.xlabel('Average Price')\n",
    "plt.ylabel('Total Volume')\n",
    "plt.title('Anomaly Detection with Isolation Forest')\n",
    "plt.legend()\n",
    "plt.show()"
   ]
  },
  {
   "cell_type": "markdown",
   "id": "23fcb28b",
   "metadata": {},
   "source": [
    "Most of the normal data points are densely packed in the bottom-left corner of the graph (close to zero values for both \"Average Price\" and \"Total Volume\").\n",
    "\n",
    "The anomalies (red dots) are scattered across the plot but are particularly visible in regions where the total volume or the average price is significantly higher than the cluster of normal points. This implies that instances with unusually high prices or volumes are flagged as outliers.\n",
    "\n",
    "There's also a pattern where the anomalies occur at relatively higher \"Total Volume\" values for lower \"Average Price\" values, suggesting that combinations of low prices and high volumes might be considered atypical in this dataset."
   ]
  },
  {
   "cell_type": "markdown",
   "id": "93e690d8",
   "metadata": {},
   "source": [
    "Now let's dive a little deeper by calculating anomaly scores for each data point using the decision_function() method. These scores give us a more nuanced view of how 'anomalous' or abnormal each point is, rather than just a binary classification."
   ]
  },
  {
   "cell_type": "code",
   "execution_count": 15,
   "id": "635d5a3e",
   "metadata": {},
   "outputs": [
    {
     "data": {
      "text/html": [
       "<div>\n",
       "<style scoped>\n",
       "    .dataframe tbody tr th:only-of-type {\n",
       "        vertical-align: middle;\n",
       "    }\n",
       "\n",
       "    .dataframe tbody tr th {\n",
       "        vertical-align: top;\n",
       "    }\n",
       "\n",
       "    .dataframe thead th {\n",
       "        text-align: right;\n",
       "    }\n",
       "</style>\n",
       "<table border=\"1\" class=\"dataframe\">\n",
       "  <thead>\n",
       "    <tr style=\"text-align: right;\">\n",
       "      <th></th>\n",
       "      <th>Total Volume</th>\n",
       "      <th>Average Price</th>\n",
       "      <th>Anomaly Score</th>\n",
       "    </tr>\n",
       "  </thead>\n",
       "  <tbody>\n",
       "    <tr>\n",
       "      <th>0</th>\n",
       "      <td>-0.183096</td>\n",
       "      <td>-1.455249</td>\n",
       "      <td>0.266400</td>\n",
       "    </tr>\n",
       "    <tr>\n",
       "      <th>1</th>\n",
       "      <td>-0.132948</td>\n",
       "      <td>-1.082731</td>\n",
       "      <td>0.266812</td>\n",
       "    </tr>\n",
       "    <tr>\n",
       "      <th>2</th>\n",
       "      <td>-0.245186</td>\n",
       "      <td>0.084491</td>\n",
       "      <td>0.312822</td>\n",
       "    </tr>\n",
       "    <tr>\n",
       "      <th>3</th>\n",
       "      <td>-0.168727</td>\n",
       "      <td>-1.082731</td>\n",
       "      <td>0.274928</td>\n",
       "    </tr>\n",
       "    <tr>\n",
       "      <th>4</th>\n",
       "      <td>-0.243767</td>\n",
       "      <td>0.109325</td>\n",
       "      <td>0.311944</td>\n",
       "    </tr>\n",
       "  </tbody>\n",
       "</table>\n",
       "</div>"
      ],
      "text/plain": [
       "   Total Volume  Average Price  Anomaly Score\n",
       "0     -0.183096      -1.455249       0.266400\n",
       "1     -0.132948      -1.082731       0.266812\n",
       "2     -0.245186       0.084491       0.312822\n",
       "3     -0.168727      -1.082731       0.274928\n",
       "4     -0.243767       0.109325       0.311944"
      ]
     },
     "execution_count": 15,
     "metadata": {},
     "output_type": "execute_result"
    }
   ],
   "source": [
    "# Converting the scaled test set back into a DataFrame with feature names for easier access\n",
    "X_test_df = pd.DataFrame(X_test, columns=features)\n",
    "\n",
    "# Calculating anomaly scores using the Isolation Forest model\n",
    "score = iforest.decision_function(X_test)\n",
    "\n",
    "# Creating a DataFrame to display the 'Total Volume', 'AveragePrice', and corresponding anomaly scores\n",
    "data_scores = pd.DataFrame(list(zip(X_test_df['Total Volume'], X_test_df['AveragePrice'], score)), \n",
    "                           columns=['Total Volume', 'Average Price', 'Anomaly Score'])\n",
    "\n",
    "data_scores.head()\n"
   ]
  },
  {
   "cell_type": "markdown",
   "id": "84182b45",
   "metadata": {},
   "source": [
    "Highlighting the top 10 most extreme anomalies based on these scores. This focused view will draw our attention to the most significant outliers in our avocado sales data."
   ]
  },
  {
   "cell_type": "code",
   "execution_count": 16,
   "id": "21a3b287",
   "metadata": {},
   "outputs": [
    {
     "data": {
      "image/png": "[encoded data removed]",
      "text/plain": [
       "<Figure size 600x400 with 1 Axes>"
      ]
     },
     "metadata": {},
     "output_type": "display_data"
    }
   ],
   "source": [
    "# Sort by anomaly score and get the top 10 outliers\n",
    "top_10_outliers = data_scores.sort_values(by=['Anomaly Score']).head(10)\n",
    "\n",
    "# Plot all data points and highlight the top 10 outliers\n",
    "plt.figure(figsize=(6, 4))\n",
    "plt.scatter(X_test_df['AveragePrice'], X_test_df['Total Volume'], label='Data Points', alpha=0.6)\n",
    "plt.scatter(top_10_outliers['Average Price'], top_10_outliers['Total Volume'], color='red', label='Top 10 Outliers', edgecolor='k')\n",
    "\n",
    "plt.title(\"Top 10 Outliers Identified\")\n",
    "plt.xlabel('Average Price')\n",
    "plt.ylabel('Total Volume')\n",
    "plt.legend()\n",
    "plt.show()\n"
   ]
  },
  {
   "cell_type": "markdown",
   "id": "69218ab3",
   "metadata": {},
   "source": [
    "Through these visualizations, we aim to uncover insights about unusual pricing or sales volumes in our dataset, potentially revealing interesting market trends or data collection issues."
   ]
  },
  {
   "cell_type": "markdown",
   "id": "c5cd8640",
   "metadata": {},
   "source": [
    "## Step 5: Flagging and Analyzing Anomalous Records"
   ]
  },
  {
   "cell_type": "markdown",
   "id": "49fe3503",
   "metadata": {},
   "source": [
    "In this step, we identify and flag the specific records marked as anomalies by our Isolation Forest model. This allows for easy access to these abnormal data points for any potential further analysis in the future."
   ]
  },
  {
   "cell_type": "code",
   "execution_count": 17,
   "id": "871621fb",
   "metadata": {},
   "outputs": [],
   "source": [
    "# Inverse transform the scaled data to get the original feature values for X_test\n",
    "X_test_inverse = scaler.inverse_transform(X_test)"
   ]
  },
  {
   "cell_type": "code",
   "execution_count": 18,
   "id": "c404542d",
   "metadata": {},
   "outputs": [],
   "source": [
    "# Convert the inverse-scaled data back to a DataFrame for easier readability\n",
    "X_test_df = pd.DataFrame(X_test_inverse, columns=features)"
   ]
  },
  {
   "cell_type": "code",
   "execution_count": 19,
   "id": "7f5b86ee",
   "metadata": {},
   "outputs": [],
   "source": [
    "# Add a column to X_test_df to indicate anomalies (1 for anomaly, 0 for normal)\n",
    "X_test_df['Anomaly'] = np.where(y_test_pred < 1, 'Anomaly', 'Normal')"
   ]
  },
  {
   "cell_type": "code",
   "execution_count": 20,
   "id": "4879f612",
   "metadata": {},
   "outputs": [
    {
     "data": {
      "text/html": [
       "<div>\n",
       "<style scoped>\n",
       "    .dataframe tbody tr th:only-of-type {\n",
       "        vertical-align: middle;\n",
       "    }\n",
       "\n",
       "    .dataframe tbody tr th {\n",
       "        vertical-align: top;\n",
       "    }\n",
       "\n",
       "    .dataframe thead th {\n",
       "        text-align: right;\n",
       "    }\n",
       "</style>\n",
       "<table border=\"1\" class=\"dataframe\">\n",
       "  <thead>\n",
       "    <tr style=\"text-align: right;\">\n",
       "      <th></th>\n",
       "      <th>AveragePrice</th>\n",
       "      <th>Total Volume</th>\n",
       "      <th>4046</th>\n",
       "      <th>4225</th>\n",
       "      <th>4770</th>\n",
       "      <th>Total Bags</th>\n",
       "      <th>Anomaly</th>\n",
       "    </tr>\n",
       "  </thead>\n",
       "  <tbody>\n",
       "    <tr>\n",
       "      <th>7</th>\n",
       "      <td>0.94</td>\n",
       "      <td>32804733.22</td>\n",
       "      <td>10015825.13</td>\n",
       "      <td>12003751.56</td>\n",
       "      <td>1375260.47</td>\n",
       "      <td>9409896.06</td>\n",
       "      <td>Anomaly</td>\n",
       "    </tr>\n",
       "    <tr>\n",
       "      <th>46</th>\n",
       "      <td>1.14</td>\n",
       "      <td>4759791.13</td>\n",
       "      <td>1702965.49</td>\n",
       "      <td>2230693.51</td>\n",
       "      <td>273922.36</td>\n",
       "      <td>552209.77</td>\n",
       "      <td>Anomaly</td>\n",
       "    </tr>\n",
       "  </tbody>\n",
       "</table>\n",
       "</div>"
      ],
      "text/plain": [
       "    AveragePrice  Total Volume         4046         4225        4770  \\\n",
       "7           0.94   32804733.22  10015825.13  12003751.56  1375260.47   \n",
       "46          1.14    4759791.13   1702965.49   2230693.51   273922.36   \n",
       "\n",
       "    Total Bags  Anomaly  \n",
       "7   9409896.06  Anomaly  \n",
       "46   552209.77  Anomaly  "
      ]
     },
     "execution_count": 20,
     "metadata": {},
     "output_type": "execute_result"
    }
   ],
   "source": [
    "# Fetching the anomalous rows\n",
    "anomalies_main_df = X_test_df[X_test_df['Anomaly'] == 'Anomaly']\n",
    "anomalies_main_df.head(2)"
   ]
  },
  {
   "cell_type": "code",
   "execution_count": 21,
   "id": "70cde0ee",
   "metadata": {},
   "outputs": [
    {
     "name": "stdout",
     "output_type": "stream",
     "text": [
      "Total number of anomalies detected: AveragePrice    5475\n",
      "Total Volume    5475\n",
      "4046            5475\n",
      "4225            5475\n",
      "4770            5475\n",
      "Total Bags      5475\n",
      "Anomaly         5475\n",
      "dtype: int64\n",
      "Total number of non-anomalies detected: AveragePrice    5475\n",
      "Total Volume    5475\n",
      "4046            5475\n",
      "4225            5475\n",
      "4770            5475\n",
      "Total Bags      5475\n",
      "Anomaly         5475\n",
      "dtype: int64\n"
     ]
    }
   ],
   "source": [
    "num_of_normal = (X_test_df == 'Nomral').count()\n",
    "num_of_anomalies = (X_test_df == 'Anomaly').count()\n",
    "print(f\"Total number of anomalies detected: {num_of_anomalies}\")\n",
    "print(f\"Total number of non-anomalies detected: {num_of_normal}\")"
   ]
  },
  {
   "cell_type": "code",
   "execution_count": 22,
   "id": "8fc1916c",
   "metadata": {},
   "outputs": [
    {
     "name": "stdout",
     "output_type": "stream",
     "text": [
      "Total number of anomalies detected: 153\n",
      "Total number of non-anomalies detected: 5322\n"
     ]
    }
   ],
   "source": [
    "num_of_normal = (y_test_pred == 1).sum()\n",
    "num_of_anomalies = (y_test_pred == -1).sum()\n",
    "print(f\"Total number of anomalies detected: {num_of_anomalies}\")\n",
    "print(f\"Total number of non-anomalies detected: {num_of_normal}\")"
   ]
  },
  {
   "cell_type": "markdown",
   "id": "a5bca95d",
   "metadata": {},
   "source": [
    "## Step 6: Interpreting Results Using SHAP"
   ]
  },
  {
   "cell_type": "markdown",
   "id": "e356f6ec",
   "metadata": {},
   "source": [
    "Here, we're taking a random sample of 100 rows from the test dataset (X_test) is selected to compute SHAP values.\n",
    "\n",
    "This step reduces the computation cost for SHAP (SHapley Additive exPlanations) calculations, which can be expensive when dealing with large datasets. By using a smaller sample, we can make the SHAP calculations more efficient while maintaining enough data to approximate the model’s behavior."
   ]
  },
  {
   "cell_type": "code",
   "execution_count": 23,
   "id": "02ff82bb",
   "metadata": {},
   "outputs": [],
   "source": [
    "# Reduce the background samples from X_train (e.g., 100 rows)\n",
    "X_train_sample = resample(X_train, n_samples=100, random_state=42)"
   ]
  },
  {
   "cell_type": "code",
   "execution_count": 24,
   "id": "ae5a2d4a",
   "metadata": {},
   "outputs": [],
   "source": [
    "# Re-initialize the SHAP explainer with the reduced background\n",
    "explainer = shap.KernelExplainer(iforest.decision_function, X_train_sample)"
   ]
  },
  {
   "cell_type": "code",
   "execution_count": 25,
   "id": "f5330ea6",
   "metadata": {},
   "outputs": [],
   "source": [
    "# Use a smaller subset of X_test to compute SHAP values (e.g., 100 rows)\n",
    "X_test_sample =  resample(X_test, n_samples=100, random_state=42)"
   ]
  },
  {
   "cell_type": "code",
   "execution_count": 26,
   "id": "1f869c7d",
   "metadata": {},
   "outputs": [
    {
     "data": {
      "application/vnd.jupyter.widget-view+json": {
       "model_id": "c741df30eeed48858c6677f4507e6402",
       "version_major": 2,
       "version_minor": 0
      },
      "text/plain": [
       "  0%|          | 0/100 [00:00<?, ?it/s]"
      ]
     },
     "metadata": {},
     "output_type": "display_data"
    }
   ],
   "source": [
    "# Compute SHAP values for the test data\n",
    "shap_values = explainer.shap_values(X_test_sample)"
   ]
  },
  {
   "cell_type": "code",
   "execution_count": 47,
   "id": "407a94b3",
   "metadata": {},
   "outputs": [
    {
     "name": "stdout",
     "output_type": "stream",
     "text": [
      "(100, 6)\n",
      "(100, 6)\n"
     ]
    }
   ],
   "source": [
    "print(X_test_sample.shape)\n",
    "print(shap_values.shape)"
   ]
  },
  {
   "cell_type": "markdown",
   "id": "d373e418",
   "metadata": {},
   "source": [
    "This line creates a SHAP summary plot to visualize how much impact each feature has on the model’s output. The plot shows the distribution of SHAP values for each feature and indicates whether higher or lower values of each feature increase or decrease the likelihood of a data point being classified as an outlier."
   ]
  },
  {
   "cell_type": "code",
   "execution_count": 32,
   "id": "69556b0f",
   "metadata": {},
   "outputs": [
    {
     "data": {
      "image/png": "[encoded data removed]",
      "text/plain": [
       "<Figure size 800x390 with 2 Axes>"
      ]
     },
     "metadata": {},
     "output_type": "display_data"
    }
   ],
   "source": [
    "# Visualize SHAP summary\n",
    "shap.summary_plot(shap_values, X_test_sample, feature_names=features)"
   ]
  },
  {
   "cell_type": "markdown",
   "id": "a9e48e34",
   "metadata": {},
   "source": [
    "Y-axis (Features): The features are listed in order of importance, from top to bottom, indicating which features have the most influence on the model's predictions.\n",
    "\n",
    "X-axis (SHAP Value): SHAP values show how much a feature affects the prediction. A positive SHAP value pushes the prediction toward anomalous, while a negative SHAP value pushes it toward non-anomalous. The farther a point is from zero, the stronger the feature's influence.\n",
    "\n",
    "Color (Feature Value): The color gradient from blue (low feature value) to red (high feature value) represents the actual value of the feature for each data point. For instance, in the feature \"4770\", higher values (red) tend to have negative SHAP values, meaning high values of this feature push the prediction toward being non-anomalous. In contrast, lower values (blue) have more positive SHAP values, increasing the likelihood of the data point being flagged as an anomaly.\n",
    "\n",
    "Interpretation: Each dot is a data point. For example, for the feature \"4770\", higher values (red dots) generally reduce the chances of an anomaly, as they have negative SHAP values. On the other hand, lower values of \"4770\" (blue dots) increase the likelihood of an anomaly.\n",
    "\n",
    "Features like 4770 and Total Bags offer consistent signals, meaning their impact on anomaly detection is stable and predictable. For instance, higher values of these features might consistently push the model toward labeling a data point as non-anomalous, while lower values push it towards detecting an anomaly. This predictability makes them reliable indicators for the model when deciding whether a data point is an outlier or not.\n",
    "\n",
    "On the other hand, Total Volume and AveragePrice show a wider spread of SHAP values, meaning their influence on predictions varies depending on their specific values. This variability allows the model to be more flexible and context-driven, adjusting its anomaly detection decisions based on the particular values of these features in different instances.\n",
    "\n",
    "In summary, 4770 and Total Bags provide clear, consistent guidance for anomaly detection, while Total Volume and AveragePrice offer more context-dependent insights that help the model detect more nuanced or situational anomalies."
   ]
  },
  {
   "cell_type": "markdown",
   "id": "82f54cde",
   "metadata": {},
   "source": [
    "##  Step 7: Exploring Feature Importance with SHAP Values"
   ]
  },
  {
   "cell_type": "code",
   "execution_count": 70,
   "id": "0dbc65da",
   "metadata": {},
   "outputs": [
    {
     "data": {
      "image/png": "[encoded data removed]",
      "text/plain": [
       "<Figure size 600x400 with 1 Axes>"
      ]
     },
     "metadata": {},
     "output_type": "display_data"
    }
   ],
   "source": [
    "num_features = X_test.shape[1]\n",
    "\n",
    "# Get the mean absolute SHAP value for each feature\n",
    "mean_shap_values = np.mean(np.abs(shap_values), axis=0)\n",
    "\n",
    "# Sort the features by mean SHAP values in ascending order\n",
    "sorted_idx = np.argsort(mean_shap_values)\n",
    "sorted_mean_shap_values = mean_shap_values[sorted_idx]\n",
    "sorted_feature_names = [features[i] for i in sorted_idx]\n",
    "\n",
    "# Plot the mean SHAP values as a bar plot\n",
    "fig, ax = plt.subplots(figsize=(6, 4))\n",
    "\n",
    "# Define a diverging color palette\n",
    "palette = sns.color_palette(\"RdYlGn\", num_features)\n",
    "\n",
    "# Create the bar plot\n",
    "bars = ax.barh(range(num_features), sorted_mean_shap_values, color=palette)\n",
    "\n",
    "# Add title and labels\n",
    "ax.set_title(\"Mean SHAP Value (Impact on Model Output)\", fontsize=16)\n",
    "ax.set_xlabel(\"Mean(|SHAP Value|) (average impact on model output magnitude)\", fontsize=12)\n",
    "ax.set_ylabel(\"Features\", fontsize=12)\n",
    "\n",
    "# Set y-tick labels to feature names\n",
    "ax.set_yticks(range(num_features))\n",
    "ax.set_yticklabels(sorted_feature_names)\n",
    "\n",
    "# Adjust layout to prevent cutting off labels\n",
    "plt.tight_layout()\n",
    "\n",
    "plt.show()"
   ]
  },
  {
   "cell_type": "markdown",
   "id": "d57ac3aa",
   "metadata": {},
   "source": [
    "The SHAP chart ranks features based on their average impact on the model. \"4770\" and \"Total Bags\" show the most consistent influence, indicating that they are reliable for distinguishing between normal and anomalous data.\n",
    "\n",
    "On the other hand, \"Total Volume\" and \"AveragePrice\" show more spread in their SHAP values. This variability means their effect changes depending on their specific values, offering flexibility for detecting more context-specific anomalies."
   ]
  },
  {
   "cell_type": "markdown",
   "id": "842ded74",
   "metadata": {},
   "source": [
    "How This Helps in Anomaly Detection:\n",
    "\n",
    "SHAP values provide a breakdown of how each feature contributes to the model’s decisions, making the process transparent and interpretable. Features with high SHAP values, like \"4770,\" act as consistent signals, while features with variable SHAP values, like \"AveragePrice,\" allow the model to adapt to different scenarios, identifying complex patterns.\n",
    "\n",
    "By explaining why certain data points are flagged as anomalies, SHAP values make predictions easier to trust, enabling better business decisions and allowing for more actionable insights."
   ]
  },
  {
   "cell_type": "code",
   "execution_count": null,
   "id": "51eb5f3e",
   "metadata": {},
   "outputs": [],
   "source": []
  }
 ],
 "metadata": {
  "kernelspec": {
   "display_name": "Python 3 (ipykernel)",
   "language": "python",
   "name": "python3"
  },
  "language_info": {
   "codemirror_mode": {
    "name": "ipython",
    "version": 3
   },
   "file_extension": ".py",
   "mimetype": "text/x-python",
   "name": "python",
   "nbconvert_exporter": "python",
   "pygments_lexer": "ipython3",
   "version": "3.11.4"
  }
 },
 "nbformat": 4,
 "nbformat_minor": 5
}
